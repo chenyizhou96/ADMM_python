{
 "cells": [
  {
   "cell_type": "code",
   "execution_count": 2,
   "metadata": {},
   "outputs": [],
   "source": [
    "from pydrake.common import FindResourceOrThrow\n",
    "from pydrake.geometry import (DrakeVisualizer, SceneGraph)\n",
    "from pydrake.lcm import DrakeLcm\n",
    "from pydrake.multibody.plant import MultibodyPlant\n",
    "from pydrake.multibody.parsing import Parser\n",
    "from pydrake.systems.framework import DiagramBuilder\n",
    "from pydrake.systems.analysis import Simulator"
   ]
  },
  {
   "cell_type": "code",
   "execution_count": 3,
   "metadata": {},
   "outputs": [
    {
     "data": {
      "text/plain": [
       "<pydrake.systems.analysis.SimulatorStatus at 0x7faa57af9730>"
      ]
     },
     "execution_count": 3,
     "metadata": {},
     "output_type": "execute_result"
    }
   ],
   "source": [
    "time_step = 0.01\n",
    "\n",
    "file_name = FindResourceOrThrow(\n",
    "        \"drake/examples/multibody/cart_pole/cart_pole.sdf\")\n",
    "builder = DiagramBuilder()\n",
    "scene_graph = builder.AddSystem(SceneGraph())  # records geo info\n",
    "cart_pole = builder.AddSystem(MultibodyPlant(time_step=time_step)) # important \n",
    "cart_pole.RegisterAsSourceForSceneGraph(scene_graph)\n",
    "Parser(plant=cart_pole).AddModelFromFile(file_name)\n",
    "cart_pole.Finalize()\n",
    "assert cart_pole.geometry_source_is_registered()\n",
    "\n",
    "builder.Connect(\n",
    "    scene_graph.get_query_output_port(),\n",
    "    cart_pole.get_geometry_query_input_port())\n",
    "builder.Connect(\n",
    "    cart_pole.get_geometry_poses_output_port(),\n",
    "    scene_graph.get_source_pose_port(cart_pole.get_source_id()))\n",
    "\n",
    "DrakeVisualizer.AddToBuilder(builder=builder, scene_graph=scene_graph)\n",
    "diagram = builder.Build()\n",
    "\n",
    "diagram_context = diagram.CreateDefaultContext()\n",
    "cart_pole_context = diagram.GetMutableSubsystemContext(\n",
    "    cart_pole, diagram_context)\n",
    "\n",
    "cart_pole.get_actuation_input_port().FixValue(cart_pole_context, 0)\n",
    "\n",
    "cart_slider = cart_pole.GetJointByName(\"CartSlider\")\n",
    "pole_pin = cart_pole.GetJointByName(\"PolePin\")\n",
    "cart_slider.set_translation(context=cart_pole_context, translation=0.)\n",
    "pole_pin.set_angle(context=cart_pole_context, angle=1.)\n",
    "\n",
    "target_realtime_rate = 1\n",
    "simulation_time = 5\n",
    "\n",
    "simulator = Simulator(diagram, diagram_context)\n",
    "simulator.set_publish_every_time_step(False)\n",
    "simulator.set_target_realtime_rate(target_realtime_rate) # .1 for fast system, \n",
    "simulator.Initialize()\n",
    "simulator.AdvanceTo(simulation_time)"
   ]
  },
  {
   "cell_type": "code",
   "execution_count": 10,
   "metadata": {},
   "outputs": [],
   "source": [
    "a = cart_pole.CalcMassMatrixViaInverseDynamics(cart_pole_context)"
   ]
  },
  {
   "cell_type": "code",
   "execution_count": 13,
   "metadata": {},
   "outputs": [
    {
     "ename": "TypeError",
     "evalue": "get_frame(): incompatible function arguments. The following argument types are supported:\n    1. (self: pydrake.multibody.plant.MultibodyPlant_[float], frame_index: pydrake.multibody.tree.FrameIndex) -> pydrake.multibody.tree.Frame_[float]\n\nInvoked with: <pydrake.multibody.plant.MultibodyPlant_[float] object at 0x7faa57af95f0>, 10",
     "output_type": "error",
     "traceback": [
      "\u001b[0;31m---------------------------------------------------------------------------\u001b[0m",
      "\u001b[0;31mTypeError\u001b[0m                                 Traceback (most recent call last)",
      "\u001b[0;32m<ipython-input-13-4ca1e0af5abd>\u001b[0m in \u001b[0;36m<module>\u001b[0;34m()\u001b[0m\n\u001b[0;32m----> 1\u001b[0;31m \u001b[0mx\u001b[0m \u001b[0;34m=\u001b[0m \u001b[0mcart_pole\u001b[0m\u001b[0;34m.\u001b[0m\u001b[0mget_frame\u001b[0m\u001b[0;34m(\u001b[0m\u001b[0;36m10\u001b[0m\u001b[0;34m)\u001b[0m\u001b[0;34m\u001b[0m\u001b[0;34m\u001b[0m\u001b[0m\n\u001b[0m",
      "\u001b[0;31mTypeError\u001b[0m: get_frame(): incompatible function arguments. The following argument types are supported:\n    1. (self: pydrake.multibody.plant.MultibodyPlant_[float], frame_index: pydrake.multibody.tree.FrameIndex) -> pydrake.multibody.tree.Frame_[float]\n\nInvoked with: <pydrake.multibody.plant.MultibodyPlant_[float] object at 0x7faa57af95f0>, 10"
     ]
    }
   ],
   "source": [
    "x = cart_pole.get_frame(10)"
   ]
  },
  {
   "cell_type": "code",
   "execution_count": 12,
   "metadata": {},
   "outputs": [
    {
     "ename": "TypeError",
     "evalue": "CalcPointsPositions(): incompatible function arguments. The following argument types are supported:\n    1. (self: pydrake.multibody.plant.MultibodyPlant_[float], context: pydrake.systems.framework.Context_[float], frame_B: pydrake.multibody.tree.Frame_[float], p_BQi: numpy.ndarray[numpy.float64[m, n], flags.f_contiguous], frame_A: pydrake.multibody.tree.Frame_[float]) -> numpy.ndarray[numpy.float64[m, n]]\n\nInvoked with: <pydrake.multibody.plant.MultibodyPlant_[float] object at 0x7faa57af95f0>, <pydrake.systems.framework.LeafContext_[float] object at 0x7faa57af9670>",
     "output_type": "error",
     "traceback": [
      "\u001b[0;31m---------------------------------------------------------------------------\u001b[0m",
      "\u001b[0;31mTypeError\u001b[0m                                 Traceback (most recent call last)",
      "\u001b[0;32m<ipython-input-12-56570900aad5>\u001b[0m in \u001b[0;36m<module>\u001b[0;34m()\u001b[0m\n\u001b[0;32m----> 1\u001b[0;31m \u001b[0mb\u001b[0m \u001b[0;34m=\u001b[0m \u001b[0mcart_pole\u001b[0m\u001b[0;34m.\u001b[0m\u001b[0mCalcPointsPositions\u001b[0m\u001b[0;34m(\u001b[0m\u001b[0mcart_pole_context\u001b[0m\u001b[0;34m)\u001b[0m\u001b[0;34m\u001b[0m\u001b[0;34m\u001b[0m\u001b[0m\n\u001b[0m",
      "\u001b[0;31mTypeError\u001b[0m: CalcPointsPositions(): incompatible function arguments. The following argument types are supported:\n    1. (self: pydrake.multibody.plant.MultibodyPlant_[float], context: pydrake.systems.framework.Context_[float], frame_B: pydrake.multibody.tree.Frame_[float], p_BQi: numpy.ndarray[numpy.float64[m, n], flags.f_contiguous], frame_A: pydrake.multibody.tree.Frame_[float]) -> numpy.ndarray[numpy.float64[m, n]]\n\nInvoked with: <pydrake.multibody.plant.MultibodyPlant_[float] object at 0x7faa57af95f0>, <pydrake.systems.framework.LeafContext_[float] object at 0x7faa57af9670>"
     ]
    }
   ],
   "source": [
    "b = cart_pole.CalcPointsPositions(cart_pole_context)"
   ]
  },
  {
   "cell_type": "code",
   "execution_count": null,
   "metadata": {},
   "outputs": [],
   "source": []
  }
 ],
 "metadata": {
  "kernelspec": {
   "display_name": "Python 3",
   "language": "python",
   "name": "python3"
  },
  "language_info": {
   "codemirror_mode": {
    "name": "ipython",
    "version": 3
   },
   "file_extension": ".py",
   "mimetype": "text/x-python",
   "name": "python",
   "nbconvert_exporter": "python",
   "pygments_lexer": "ipython3",
   "version": "3.6.9"
  }
 },
 "nbformat": 4,
 "nbformat_minor": 2
}
